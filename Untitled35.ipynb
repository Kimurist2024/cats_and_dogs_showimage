{
  "nbformat": 4,
  "nbformat_minor": 0,
  "metadata": {
    "colab": {
      "provenance": [],
      "machine_shape": "hm",
      "gpuType": "A100",
      "authorship_tag": "ABX9TyPKBCHpLikxJkQNBOWZxhdu",
      "include_colab_link": true
    },
    "kernelspec": {
      "name": "python3",
      "display_name": "Python 3"
    },
    "language_info": {
      "name": "python"
    },
    "accelerator": "GPU"
  },
  "cells": [
    {
      "cell_type": "markdown",
      "metadata": {
        "id": "view-in-github",
        "colab_type": "text"
      },
      "source": [
        "<a href=\"https://colab.research.google.com/github/Kimurist2024/cats_and_dogs_showimage/blob/main/Untitled35.ipynb\" target=\"_parent\"><img src=\"https://colab.research.google.com/assets/colab-badge.svg\" alt=\"Open In Colab\"/></a>"
      ]
    },
    {
      "cell_type": "code",
      "execution_count": 1,
      "metadata": {
        "colab": {
          "base_uri": "https://localhost:8080/"
        },
        "id": "rV8PzRpBgKDh",
        "outputId": "629c0fb8-a97d-447d-988b-ae413104faaf"
      },
      "outputs": [
        {
          "output_type": "stream",
          "name": "stdout",
          "text": [
            "Downloading data from https://storage.googleapis.com/mledu-datasets/cats_and_dogs_filtered.zip\n",
            "\u001b[1m68606236/68606236\u001b[0m \u001b[32m━━━━━━━━━━━━━━━━━━━━\u001b[0m\u001b[37m\u001b[0m \u001b[1m0s\u001b[0m 0us/step\n",
            "Train Cats Directory: False\n",
            "Train Dogs Directory: False\n",
            "Validation Cats Directory: False\n",
            "Validation Dogs Directory: False\n"
          ]
        }
      ],
      "source": [
        "import os\n",
        "import tensorflow as tf\n",
        "\n",
        "# データセットのダウンロード（自動で解凍される）\n",
        "URL = \"https://storage.googleapis.com/mledu-datasets/cats_and_dogs_filtered.zip\"\n",
        "path_to_zip = tf.keras.utils.get_file('cats_and_dogs.zip', origin=URL, extract=True)\n",
        "\n",
        "# 解凍されたデータのディレクトリを設定\n",
        "PATH = os.path.join(os.path.dirname(path_to_zip), 'cats_and_dogs_filtered')\n",
        "\n",
        "# 訓練データと検証データのディレクトリ\n",
        "train_dir = os.path.join(PATH, 'train')\n",
        "validation_dir = os.path.join(PATH, 'validation')\n",
        "\n",
        "# 訓練および検証データにおけるネコとイヌのディレクトリ\n",
        "train_cats_dir = os.path.join(train_dir, \"cats\")\n",
        "train_dogs_dir = os.path.join(train_dir, \"dogs\")\n",
        "validation_cats_dir = os.path.join(validation_dir, \"cats\")\n",
        "validation_dogs_dir = os.path.join(validation_dir, \"dogs\")\n",
        "\n",
        "# ディレクトリが存在するか確認\n",
        "print(\"Train Cats Directory:\", os.path.exists(train_cats_dir))\n",
        "print(\"Train Dogs Directory:\", os.path.exists(train_dogs_dir))\n",
        "print(\"Validation Cats Directory:\", os.path.exists(validation_cats_dir))\n",
        "print(\"Validation Dogs Directory:\", os.path.exists(validation_dogs_dir))\n"
      ]
    },
    {
      "cell_type": "code",
      "source": [
        "import os\n",
        "import tensorflow as tf\n",
        "import zipfile\n",
        "\n",
        "# データセットのURL\n",
        "URL = \"https://storage.googleapis.com/mledu-datasets/cats_and_dogs_filtered.zip\"\n",
        "\n",
        "# データセットをダウンロード\n",
        "path_to_zip = tf.keras.utils.get_file('cats_and_dogs.zip', origin=URL, extract=False)  # extract=False に変更\n",
        "\n",
        "# 保存されたZIPファイルのパスを確認\n",
        "print(\"Downloaded ZIP file location:\", path_to_zip)\n",
        "\n",
        "# 解凍処理\n",
        "with zipfile.ZipFile(path_to_zip, 'r') as zip_ref:\n",
        "    zip_ref.extractall(os.path.dirname(path_to_zip))  # ZIPを展開\n",
        "\n",
        "# 解凍されたデータのパスを取得\n",
        "PATH = os.path.join(os.path.dirname(path_to_zip), 'cats_and_dogs_filtered')\n",
        "\n",
        "# 訓練データと検証データのディレクトリ\n",
        "train_dir = os.path.join(PATH, 'train')\n",
        "validation_dir = os.path.join(PATH, 'validation')\n",
        "\n",
        "# 訓練および検証データにおけるネコとイヌのディレクトリ\n",
        "train_cats_dir = os.path.join(train_dir, \"cats\")\n",
        "train_dogs_dir = os.path.join(train_dir, \"dogs\")\n",
        "validation_cats_dir = os.path.join(validation_dir, \"cats\")\n",
        "validation_dogs_dir = os.path.join(validation_dir, \"dogs\")\n",
        "\n",
        "# ディレクトリが存在するか確認\n",
        "print(\"Train Cats Directory:\", os.path.exists(train_cats_dir))\n",
        "print(\"Train Dogs Directory:\", os.path.exists(train_dogs_dir))\n",
        "print(\"Validation Cats Directory:\", os.path.exists(validation_cats_dir))\n",
        "print(\"Validation Dogs Directory:\", os.path.exists(validation_dogs_dir))\n",
        "\n",
        "# ディレクトリの中身を確認\n",
        "!ls -l {PATH}\n"
      ],
      "metadata": {
        "colab": {
          "base_uri": "https://localhost:8080/"
        },
        "id": "u1FQr0HHWSyO",
        "outputId": "5d68325d-9b41-493f-df6d-54835093db4a"
      },
      "execution_count": 2,
      "outputs": [
        {
          "output_type": "stream",
          "name": "stdout",
          "text": [
            "Downloaded ZIP file location: /root/.keras/datasets/cats_and_dogs.zip\n",
            "Train Cats Directory: True\n",
            "Train Dogs Directory: True\n",
            "Validation Cats Directory: True\n",
            "Validation Dogs Directory: True\n",
            "total 12\n",
            "drwxr-xr-x 4 root root 4096 Mar 13 02:37 train\n",
            "drwxr-xr-x 4 root root 4096 Mar 13 02:37 validation\n",
            "-rw-r--r-- 1 root root  140 Mar 13 02:37 vectorize.py\n"
          ]
        }
      ]
    },
    {
      "cell_type": "code",
      "source": [
        "import os\n",
        "import tensorflow as tf\n",
        "from tensorflow.keras.preprocessing.image import ImageDataGenerator\n",
        "\n",
        "# パラメータ設定\n",
        "batch_size = 32\n",
        "IMG_HEIGHT = 150\n",
        "IMG_WIDTH = 150\n",
        "\n",
        "# 訓練・検証用データの ImageDataGenerator 設定\n",
        "train_image_generator = ImageDataGenerator(rescale=1./255)  # 訓練データ\n",
        "validation_image_generator = ImageDataGenerator(rescale=1./255)  # 検証データ\n",
        "\n",
        "# 訓練データの読み込み\n",
        "train_data_gen = train_image_generator.flow_from_directory(\n",
        "    batch_size=batch_size,\n",
        "    directory=train_dir,  # 訓練データディレクトリ\n",
        "    shuffle=True,  # データをシャッフル\n",
        "    target_size=(IMG_HEIGHT, IMG_WIDTH),  # 画像のサイズ\n",
        "    class_mode=\"binary\"  # 犬 vs 猫の2クラス分類\n",
        ")\n",
        "\n",
        "# 検証データの読み込み\n",
        "val_data_gen = validation_image_generator.flow_from_directory(\n",
        "    batch_size=batch_size,\n",
        "    directory=validation_dir,  # 検証データディレクトリ（修正）\n",
        "    target_size=(IMG_HEIGHT, IMG_WIDTH),  # 画像のサイズ\n",
        "    class_mode=\"binary\"  # 犬 vs 猫の2クラス分類\n",
        ")\n",
        "\n",
        "# クラスの確認\n",
        "print(\"Class Indices:\", train_data_gen.class_indices)\n",
        "print(\"Class Indices:\", val_data_gen.class_indices)\n"
      ],
      "metadata": {
        "colab": {
          "base_uri": "https://localhost:8080/"
        },
        "id": "FwSr1d0Xh3lU",
        "outputId": "4dcbc833-3627-42df-d584-7b63a6b87c8c"
      },
      "execution_count": 3,
      "outputs": [
        {
          "output_type": "stream",
          "name": "stdout",
          "text": [
            "Found 2000 images belonging to 2 classes.\n",
            "Found 1000 images belonging to 2 classes.\n",
            "Class Indices: {'cats': 0, 'dogs': 1}\n",
            "Class Indices: {'cats': 0, 'dogs': 1}\n"
          ]
        }
      ]
    },
    {
      "cell_type": "code",
      "source": [
        "from tensorflow.keras.models import Sequential\n",
        "from tensorflow.keras.layers import Dense, Dropout, GlobalMaxPooling2D\n",
        "from tensorflow.keras import optimizers\n",
        "from tensorflow.keras.applications import VGG16\n",
        "import math\n",
        "\n",
        "# 画像のサイズを取得\n",
        "image_size = len(train_data_gen[0][0][0])\n",
        "\n",
        "# 入力データの形状を（縦, 横, 3チャンネル）の形状のタプルにする\n",
        "input_shape = (image_size, image_size, 3)\n",
        "\n",
        "# VGG16モデルを学習済みの重みと一緒に読み込む\n",
        "pre_trained_model = VGG16(\n",
        "    include_top=False,  # 全結合層（FC）は読み込まない\n",
        "    weights='imagenet',  # ImageNetで学習した重みを利用する\n",
        "    input_shape=input_shape  # 入力データの形状を設定\n",
        ")\n",
        "\n",
        "# 第1〜14層の重みを凍結\n",
        "for layer in pre_trained_model.layers[:15]:\n",
        "    layer.trainable = False\n",
        "\n",
        "# 第15層以降の重みを更新可能にする\n",
        "for layer in pre_trained_model.layers[15:]:\n",
        "    layer.trainable = True\n",
        "\n",
        "# Sequentialオブジェクトを生成\n",
        "model = Sequential()\n",
        "\n",
        "# SequentialオブジェクトにVGG16モデルを格納\n",
        "model.add(pre_trained_model)\n",
        "\n",
        "# VGG16の最終プーリング層が出力する\n",
        "# (batch_size, rows, cols, channels) の4階テンソルを\n",
        "# プーリング演算適用後、(batch_size, 4, 4, 512)が\n",
        "# (batch_size, 512)の形状になる\n",
        "\n",
        "model.add(GlobalMaxPooling2D())\n",
        "\n",
        "# 全結合層\n",
        "model.add(Dense(\n",
        "    512,  # ユニット数512\n",
        "    activation='relu'  # 活性化関数はReLU\n",
        "))\n",
        "\n",
        "# 50%のドロップアウト\n",
        "model.add(Dropout(0.5))\n",
        "\n",
        "# 出力層\n",
        "model.add(Dense(\n",
        "    1,  # ユニット数1\n",
        "    activation='sigmoid'  # 活性化関数はシグモイド関数\n",
        "))\n",
        "\n",
        "# モデルのコンパイル\n",
        "model.compile(\n",
        "    loss='binary_crossentropy',  # 2値分類用の交差エントロピー誤差を損失関数にする\n",
        "    optimizer=optimizers.RMSprop(learning_rate=1e-5),  # RMSprop最適化アルゴリズムを使用\n",
        "    metrics=['accuracy']  # 評価指標は正解率\n",
        ")\n",
        "\n",
        "# コンパイル後のサマリを表示\n",
        "model.summary()\n",
        "\n",
        "from tensorflow.keras.callbacks import ReduceLROnPlateau\n",
        "\n",
        "# 学習率のスケジューラーを定義\n",
        "reduce_lr = ReduceLROnPlateau(\n",
        "    monitor='val_loss',  # 検証データの損失を監視\n",
        "    factor=0.2,  # 学習率を 20% に減少\n",
        "    patience=5,  # 5エポック連続で改善がなければ減衰\n",
        "    min_lr=1e-7  # 最小学習率を 1e-7 に設定\n",
        ")\n",
        "\n",
        "# エポック数を20に設定\n",
        "epochs = 20\n",
        "\n",
        "# 修正後の学習\n",
        "history = model.fit(\n",
        "    train_data_gen,  # 訓練データ\n",
        "    validation_data=val_data_gen,  # 検証データ\n",
        "    epochs=epochs,  # エポック数を20に設定\n",
        "    verbose=1,  # 学習の進捗状況を出力\n",
        "    callbacks=[reduce_lr]  # コールバックに学習率スケジューラーを設定\n",
        ")\n"
      ],
      "metadata": {
        "colab": {
          "base_uri": "https://localhost:8080/",
          "height": 1000
        },
        "id": "vELsKMDNi2C2",
        "outputId": "632dcbd9-947c-41de-896e-0b2fce69d567"
      },
      "execution_count": 4,
      "outputs": [
        {
          "output_type": "stream",
          "name": "stdout",
          "text": [
            "Downloading data from https://storage.googleapis.com/tensorflow/keras-applications/vgg16/vgg16_weights_tf_dim_ordering_tf_kernels_notop.h5\n",
            "\u001b[1m58889256/58889256\u001b[0m \u001b[32m━━━━━━━━━━━━━━━━━━━━\u001b[0m\u001b[37m\u001b[0m \u001b[1m0s\u001b[0m 0us/step\n"
          ]
        },
        {
          "output_type": "display_data",
          "data": {
            "text/plain": [
              "\u001b[1mModel: \"sequential\"\u001b[0m\n"
            ],
            "text/html": [
              "<pre style=\"white-space:pre;overflow-x:auto;line-height:normal;font-family:Menlo,'DejaVu Sans Mono',consolas,'Courier New',monospace\"><span style=\"font-weight: bold\">Model: \"sequential\"</span>\n",
              "</pre>\n"
            ]
          },
          "metadata": {}
        },
        {
          "output_type": "display_data",
          "data": {
            "text/plain": [
              "┏━━━━━━━━━━━━━━━━━━━━━━━━━━━━━━━━━━━━━━┳━━━━━━━━━━━━━━━━━━━━━━━━━━━━━┳━━━━━━━━━━━━━━━━━┓\n",
              "┃\u001b[1m \u001b[0m\u001b[1mLayer (type)                        \u001b[0m\u001b[1m \u001b[0m┃\u001b[1m \u001b[0m\u001b[1mOutput Shape               \u001b[0m\u001b[1m \u001b[0m┃\u001b[1m \u001b[0m\u001b[1m        Param #\u001b[0m\u001b[1m \u001b[0m┃\n",
              "┡━━━━━━━━━━━━━━━━━━━━━━━━━━━━━━━━━━━━━━╇━━━━━━━━━━━━━━━━━━━━━━━━━━━━━╇━━━━━━━━━━━━━━━━━┩\n",
              "│ vgg16 (\u001b[38;5;33mFunctional\u001b[0m)                   │ (\u001b[38;5;45mNone\u001b[0m, \u001b[38;5;34m4\u001b[0m, \u001b[38;5;34m4\u001b[0m, \u001b[38;5;34m512\u001b[0m)           │      \u001b[38;5;34m14,714,688\u001b[0m │\n",
              "├──────────────────────────────────────┼─────────────────────────────┼─────────────────┤\n",
              "│ global_max_pooling2d                 │ (\u001b[38;5;45mNone\u001b[0m, \u001b[38;5;34m512\u001b[0m)                 │               \u001b[38;5;34m0\u001b[0m │\n",
              "│ (\u001b[38;5;33mGlobalMaxPooling2D\u001b[0m)                 │                             │                 │\n",
              "├──────────────────────────────────────┼─────────────────────────────┼─────────────────┤\n",
              "│ dense (\u001b[38;5;33mDense\u001b[0m)                        │ (\u001b[38;5;45mNone\u001b[0m, \u001b[38;5;34m512\u001b[0m)                 │         \u001b[38;5;34m262,656\u001b[0m │\n",
              "├──────────────────────────────────────┼─────────────────────────────┼─────────────────┤\n",
              "│ dropout (\u001b[38;5;33mDropout\u001b[0m)                    │ (\u001b[38;5;45mNone\u001b[0m, \u001b[38;5;34m512\u001b[0m)                 │               \u001b[38;5;34m0\u001b[0m │\n",
              "├──────────────────────────────────────┼─────────────────────────────┼─────────────────┤\n",
              "│ dense_1 (\u001b[38;5;33mDense\u001b[0m)                      │ (\u001b[38;5;45mNone\u001b[0m, \u001b[38;5;34m1\u001b[0m)                   │             \u001b[38;5;34m513\u001b[0m │\n",
              "└──────────────────────────────────────┴─────────────────────────────┴─────────────────┘\n"
            ],
            "text/html": [
              "<pre style=\"white-space:pre;overflow-x:auto;line-height:normal;font-family:Menlo,'DejaVu Sans Mono',consolas,'Courier New',monospace\">┏━━━━━━━━━━━━━━━━━━━━━━━━━━━━━━━━━━━━━━┳━━━━━━━━━━━━━━━━━━━━━━━━━━━━━┳━━━━━━━━━━━━━━━━━┓\n",
              "┃<span style=\"font-weight: bold\"> Layer (type)                         </span>┃<span style=\"font-weight: bold\"> Output Shape                </span>┃<span style=\"font-weight: bold\">         Param # </span>┃\n",
              "┡━━━━━━━━━━━━━━━━━━━━━━━━━━━━━━━━━━━━━━╇━━━━━━━━━━━━━━━━━━━━━━━━━━━━━╇━━━━━━━━━━━━━━━━━┩\n",
              "│ vgg16 (<span style=\"color: #0087ff; text-decoration-color: #0087ff\">Functional</span>)                   │ (<span style=\"color: #00d7ff; text-decoration-color: #00d7ff\">None</span>, <span style=\"color: #00af00; text-decoration-color: #00af00\">4</span>, <span style=\"color: #00af00; text-decoration-color: #00af00\">4</span>, <span style=\"color: #00af00; text-decoration-color: #00af00\">512</span>)           │      <span style=\"color: #00af00; text-decoration-color: #00af00\">14,714,688</span> │\n",
              "├──────────────────────────────────────┼─────────────────────────────┼─────────────────┤\n",
              "│ global_max_pooling2d                 │ (<span style=\"color: #00d7ff; text-decoration-color: #00d7ff\">None</span>, <span style=\"color: #00af00; text-decoration-color: #00af00\">512</span>)                 │               <span style=\"color: #00af00; text-decoration-color: #00af00\">0</span> │\n",
              "│ (<span style=\"color: #0087ff; text-decoration-color: #0087ff\">GlobalMaxPooling2D</span>)                 │                             │                 │\n",
              "├──────────────────────────────────────┼─────────────────────────────┼─────────────────┤\n",
              "│ dense (<span style=\"color: #0087ff; text-decoration-color: #0087ff\">Dense</span>)                        │ (<span style=\"color: #00d7ff; text-decoration-color: #00d7ff\">None</span>, <span style=\"color: #00af00; text-decoration-color: #00af00\">512</span>)                 │         <span style=\"color: #00af00; text-decoration-color: #00af00\">262,656</span> │\n",
              "├──────────────────────────────────────┼─────────────────────────────┼─────────────────┤\n",
              "│ dropout (<span style=\"color: #0087ff; text-decoration-color: #0087ff\">Dropout</span>)                    │ (<span style=\"color: #00d7ff; text-decoration-color: #00d7ff\">None</span>, <span style=\"color: #00af00; text-decoration-color: #00af00\">512</span>)                 │               <span style=\"color: #00af00; text-decoration-color: #00af00\">0</span> │\n",
              "├──────────────────────────────────────┼─────────────────────────────┼─────────────────┤\n",
              "│ dense_1 (<span style=\"color: #0087ff; text-decoration-color: #0087ff\">Dense</span>)                      │ (<span style=\"color: #00d7ff; text-decoration-color: #00d7ff\">None</span>, <span style=\"color: #00af00; text-decoration-color: #00af00\">1</span>)                   │             <span style=\"color: #00af00; text-decoration-color: #00af00\">513</span> │\n",
              "└──────────────────────────────────────┴─────────────────────────────┴─────────────────┘\n",
              "</pre>\n"
            ]
          },
          "metadata": {}
        },
        {
          "output_type": "display_data",
          "data": {
            "text/plain": [
              "\u001b[1m Total params: \u001b[0m\u001b[38;5;34m14,977,857\u001b[0m (57.14 MB)\n"
            ],
            "text/html": [
              "<pre style=\"white-space:pre;overflow-x:auto;line-height:normal;font-family:Menlo,'DejaVu Sans Mono',consolas,'Courier New',monospace\"><span style=\"font-weight: bold\"> Total params: </span><span style=\"color: #00af00; text-decoration-color: #00af00\">14,977,857</span> (57.14 MB)\n",
              "</pre>\n"
            ]
          },
          "metadata": {}
        },
        {
          "output_type": "display_data",
          "data": {
            "text/plain": [
              "\u001b[1m Trainable params: \u001b[0m\u001b[38;5;34m7,342,593\u001b[0m (28.01 MB)\n"
            ],
            "text/html": [
              "<pre style=\"white-space:pre;overflow-x:auto;line-height:normal;font-family:Menlo,'DejaVu Sans Mono',consolas,'Courier New',monospace\"><span style=\"font-weight: bold\"> Trainable params: </span><span style=\"color: #00af00; text-decoration-color: #00af00\">7,342,593</span> (28.01 MB)\n",
              "</pre>\n"
            ]
          },
          "metadata": {}
        },
        {
          "output_type": "display_data",
          "data": {
            "text/plain": [
              "\u001b[1m Non-trainable params: \u001b[0m\u001b[38;5;34m7,635,264\u001b[0m (29.13 MB)\n"
            ],
            "text/html": [
              "<pre style=\"white-space:pre;overflow-x:auto;line-height:normal;font-family:Menlo,'DejaVu Sans Mono',consolas,'Courier New',monospace\"><span style=\"font-weight: bold\"> Non-trainable params: </span><span style=\"color: #00af00; text-decoration-color: #00af00\">7,635,264</span> (29.13 MB)\n",
              "</pre>\n"
            ]
          },
          "metadata": {}
        },
        {
          "output_type": "stream",
          "name": "stdout",
          "text": [
            "Epoch 1/20\n"
          ]
        },
        {
          "output_type": "stream",
          "name": "stderr",
          "text": [
            "/usr/local/lib/python3.11/dist-packages/keras/src/trainers/data_adapters/py_dataset_adapter.py:121: UserWarning: Your `PyDataset` class should call `super().__init__(**kwargs)` in its constructor. `**kwargs` can include `workers`, `use_multiprocessing`, `max_queue_size`. Do not pass these arguments to `fit()`, as they will be ignored.\n",
            "  self._warn_if_super_not_called()\n"
          ]
        },
        {
          "output_type": "stream",
          "name": "stdout",
          "text": [
            "\u001b[1m63/63\u001b[0m \u001b[32m━━━━━━━━━━━━━━━━━━━━\u001b[0m\u001b[37m\u001b[0m \u001b[1m14s\u001b[0m 122ms/step - accuracy: 0.5984 - loss: 0.6786 - val_accuracy: 0.8500 - val_loss: 0.4107 - learning_rate: 1.0000e-05\n",
            "Epoch 2/20\n",
            "\u001b[1m63/63\u001b[0m \u001b[32m━━━━━━━━━━━━━━━━━━━━\u001b[0m\u001b[37m\u001b[0m \u001b[1m4s\u001b[0m 65ms/step - accuracy: 0.7887 - loss: 0.4282 - val_accuracy: 0.8760 - val_loss: 0.3024 - learning_rate: 1.0000e-05\n",
            "Epoch 3/20\n",
            "\u001b[1m63/63\u001b[0m \u001b[32m━━━━━━━━━━━━━━━━━━━━\u001b[0m\u001b[37m\u001b[0m \u001b[1m4s\u001b[0m 66ms/step - accuracy: 0.8679 - loss: 0.3139 - val_accuracy: 0.8940 - val_loss: 0.2566 - learning_rate: 1.0000e-05\n",
            "Epoch 4/20\n",
            "\u001b[1m63/63\u001b[0m \u001b[32m━━━━━━━━━━━━━━━━━━━━\u001b[0m\u001b[37m\u001b[0m \u001b[1m4s\u001b[0m 64ms/step - accuracy: 0.9191 - loss: 0.2223 - val_accuracy: 0.8970 - val_loss: 0.2535 - learning_rate: 1.0000e-05\n",
            "Epoch 5/20\n",
            "\u001b[1m63/63\u001b[0m \u001b[32m━━━━━━━━━━━━━━━━━━━━\u001b[0m\u001b[37m\u001b[0m \u001b[1m4s\u001b[0m 65ms/step - accuracy: 0.9381 - loss: 0.1755 - val_accuracy: 0.9080 - val_loss: 0.2279 - learning_rate: 1.0000e-05\n",
            "Epoch 6/20\n",
            "\u001b[1m63/63\u001b[0m \u001b[32m━━━━━━━━━━━━━━━━━━━━\u001b[0m\u001b[37m\u001b[0m \u001b[1m4s\u001b[0m 63ms/step - accuracy: 0.9389 - loss: 0.1382 - val_accuracy: 0.9050 - val_loss: 0.2168 - learning_rate: 1.0000e-05\n",
            "Epoch 7/20\n",
            "\u001b[1m63/63\u001b[0m \u001b[32m━━━━━━━━━━━━━━━━━━━━\u001b[0m\u001b[37m\u001b[0m \u001b[1m4s\u001b[0m 64ms/step - accuracy: 0.9607 - loss: 0.1205 - val_accuracy: 0.9100 - val_loss: 0.2055 - learning_rate: 1.0000e-05\n",
            "Epoch 8/20\n",
            "\u001b[1m63/63\u001b[0m \u001b[32m━━━━━━━━━━━━━━━━━━━━\u001b[0m\u001b[37m\u001b[0m \u001b[1m4s\u001b[0m 64ms/step - accuracy: 0.9747 - loss: 0.0923 - val_accuracy: 0.9230 - val_loss: 0.2198 - learning_rate: 1.0000e-05\n",
            "Epoch 9/20\n",
            "\u001b[1m63/63\u001b[0m \u001b[32m━━━━━━━━━━━━━━━━━━━━\u001b[0m\u001b[37m\u001b[0m \u001b[1m4s\u001b[0m 64ms/step - accuracy: 0.9704 - loss: 0.0817 - val_accuracy: 0.9180 - val_loss: 0.2055 - learning_rate: 1.0000e-05\n",
            "Epoch 10/20\n",
            "\u001b[1m63/63\u001b[0m \u001b[32m━━━━━━━━━━━━━━━━━━━━\u001b[0m\u001b[37m\u001b[0m \u001b[1m4s\u001b[0m 64ms/step - accuracy: 0.9764 - loss: 0.0698 - val_accuracy: 0.9070 - val_loss: 0.2090 - learning_rate: 1.0000e-05\n",
            "Epoch 11/20\n",
            "\u001b[1m63/63\u001b[0m \u001b[32m━━━━━━━━━━━━━━━━━━━━\u001b[0m\u001b[37m\u001b[0m \u001b[1m4s\u001b[0m 65ms/step - accuracy: 0.9894 - loss: 0.0433 - val_accuracy: 0.9240 - val_loss: 0.2285 - learning_rate: 1.0000e-05\n",
            "Epoch 12/20\n",
            "\u001b[1m63/63\u001b[0m \u001b[32m━━━━━━━━━━━━━━━━━━━━\u001b[0m\u001b[37m\u001b[0m \u001b[1m4s\u001b[0m 64ms/step - accuracy: 0.9860 - loss: 0.0444 - val_accuracy: 0.9240 - val_loss: 0.2061 - learning_rate: 1.0000e-05\n",
            "Epoch 13/20\n",
            "\u001b[1m63/63\u001b[0m \u001b[32m━━━━━━━━━━━━━━━━━━━━\u001b[0m\u001b[37m\u001b[0m \u001b[1m4s\u001b[0m 63ms/step - accuracy: 0.9972 - loss: 0.0249 - val_accuracy: 0.9230 - val_loss: 0.2058 - learning_rate: 2.0000e-06\n",
            "Epoch 14/20\n",
            "\u001b[1m63/63\u001b[0m \u001b[32m━━━━━━━━━━━━━━━━━━━━\u001b[0m\u001b[37m\u001b[0m \u001b[1m4s\u001b[0m 63ms/step - accuracy: 0.9956 - loss: 0.0265 - val_accuracy: 0.9250 - val_loss: 0.2079 - learning_rate: 2.0000e-06\n",
            "Epoch 15/20\n",
            "\u001b[1m63/63\u001b[0m \u001b[32m━━━━━━━━━━━━━━━━━━━━\u001b[0m\u001b[37m\u001b[0m \u001b[1m4s\u001b[0m 64ms/step - accuracy: 0.9948 - loss: 0.0256 - val_accuracy: 0.9220 - val_loss: 0.2087 - learning_rate: 2.0000e-06\n",
            "Epoch 16/20\n",
            "\u001b[1m63/63\u001b[0m \u001b[32m━━━━━━━━━━━━━━━━━━━━\u001b[0m\u001b[37m\u001b[0m \u001b[1m4s\u001b[0m 64ms/step - accuracy: 0.9964 - loss: 0.0217 - val_accuracy: 0.9230 - val_loss: 0.2101 - learning_rate: 2.0000e-06\n",
            "Epoch 17/20\n",
            "\u001b[1m63/63\u001b[0m \u001b[32m━━━━━━━━━━━━━━━━━━━━\u001b[0m\u001b[37m\u001b[0m \u001b[1m4s\u001b[0m 65ms/step - accuracy: 0.9973 - loss: 0.0221 - val_accuracy: 0.9220 - val_loss: 0.2126 - learning_rate: 2.0000e-06\n",
            "Epoch 18/20\n",
            "\u001b[1m63/63\u001b[0m \u001b[32m━━━━━━━━━━━━━━━━━━━━\u001b[0m\u001b[37m\u001b[0m \u001b[1m4s\u001b[0m 63ms/step - accuracy: 0.9985 - loss: 0.0189 - val_accuracy: 0.9230 - val_loss: 0.2121 - learning_rate: 4.0000e-07\n",
            "Epoch 19/20\n",
            "\u001b[1m63/63\u001b[0m \u001b[32m━━━━━━━━━━━━━━━━━━━━\u001b[0m\u001b[37m\u001b[0m \u001b[1m4s\u001b[0m 64ms/step - accuracy: 0.9972 - loss: 0.0192 - val_accuracy: 0.9220 - val_loss: 0.2125 - learning_rate: 4.0000e-07\n",
            "Epoch 20/20\n",
            "\u001b[1m63/63\u001b[0m \u001b[32m━━━━━━━━━━━━━━━━━━━━\u001b[0m\u001b[37m\u001b[0m \u001b[1m4s\u001b[0m 64ms/step - accuracy: 0.9975 - loss: 0.0207 - val_accuracy: 0.9210 - val_loss: 0.2132 - learning_rate: 4.0000e-07\n"
          ]
        }
      ]
    },
    {
      "cell_type": "code",
      "source": [
        "import matplotlib.pyplot as plt\n",
        "\n",
        "# 精度の推移をプロット\n",
        "plt.plot(history.history['accuracy'], \"-.\", label=\"accuracy\")\n",
        "plt.plot(history.history['val_accuracy'], \"-.\", label=\"val_acc\")\n",
        "plt.title('accuracy')\n",
        "plt.xlabel('epoch')\n",
        "plt.ylabel('accuracy')\n",
        "plt.legend(loc=\"lower right\")\n",
        "plt.show()\n",
        "\n",
        "# 損失の推移をプロット\n",
        "plt.plot(history.history['loss'], \"-.\", label=\"loss\")\n",
        "plt.plot(history.history['val_loss'], \"-.\", label=\"val_loss\")\n",
        "plt.title('loss')\n",
        "plt.xlabel('epoch')\n",
        "plt.ylabel('loss')\n",
        "plt.legend(loc=\"upper right\")\n",
        "plt.show()\n"
      ],
      "metadata": {
        "colab": {
          "base_uri": "https://localhost:8080/",
          "height": 927
        },
        "id": "enuRtWHCX2mp",
        "outputId": "55e73b1c-469f-4446-84f7-bb77ce976518"
      },
      "execution_count": 5,
      "outputs": [
        {
          "output_type": "display_data",
          "data": {
            "text/plain": [
              "<Figure size 640x480 with 1 Axes>"
            ],
            "image/png": "[encoded data removed]"
          },
          "metadata": {}
        },
        {
          "output_type": "display_data",
          "data": {
            "text/plain": [
              "<Figure size 640x480 with 1 Axes>"
            ],
            "image/png": "[encoded data removed]"
          },
          "metadata": {}
        }
      ]
    }
  ]
}